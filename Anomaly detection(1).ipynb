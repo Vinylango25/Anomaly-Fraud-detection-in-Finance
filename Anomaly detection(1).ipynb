{
 "cells": [
  {
   "cell_type": "code",
   "execution_count": 1,
   "id": "excessive-metro",
   "metadata": {},
   "outputs": [
    {
     "name": "stdout",
     "output_type": "stream",
     "text": [
      "Looking in indexes: https://pypi.org/simple, https://pypi.ngc.nvidia.com\n",
      "\u001b[33mWARNING: Retrying (Retry(total=4, connect=None, read=None, redirect=None, status=None)) after connection broken by 'NewConnectionError('<pip._vendor.urllib3.connection.HTTPSConnection object at 0x108e58b50>: Failed to establish a new connection: [Errno 65] No route to host')': /simple/pyod/\u001b[0m\u001b[33m\n",
      "\u001b[0m\u001b[33mWARNING: Retrying (Retry(total=3, connect=None, read=None, redirect=None, status=None)) after connection broken by 'NewConnectionError('<pip._vendor.urllib3.connection.HTTPSConnection object at 0x108e58df0>: Failed to establish a new connection: [Errno 65] No route to host')': /simple/pyod/\u001b[0m\u001b[33m\n",
      "\u001b[0m\u001b[33mWARNING: Retrying (Retry(total=2, connect=None, read=None, redirect=None, status=None)) after connection broken by 'NewConnectionError('<pip._vendor.urllib3.connection.HTTPSConnection object at 0x108e58fd0>: Failed to establish a new connection: [Errno 65] No route to host')': /simple/pyod/\u001b[0m\u001b[33m\n",
      "\u001b[0m\u001b[33mWARNING: Retrying (Retry(total=1, connect=None, read=None, redirect=None, status=None)) after connection broken by 'NewConnectionError('<pip._vendor.urllib3.connection.HTTPSConnection object at 0x108e83190>: Failed to establish a new connection: [Errno 65] No route to host')': /simple/pyod/\u001b[0m\u001b[33m\n",
      "\u001b[0m\u001b[33mWARNING: Retrying (Retry(total=0, connect=None, read=None, redirect=None, status=None)) after connection broken by 'NewConnectionError('<pip._vendor.urllib3.connection.HTTPSConnection object at 0x108e83340>: Failed to establish a new connection: [Errno 65] No route to host')': /simple/pyod/\u001b[0m\u001b[33m\n",
      "\u001b[0m\u001b[33mWARNING: Retrying (Retry(total=4, connect=None, read=None, redirect=None, status=None)) after connection broken by 'ConnectTimeoutError(<pip._vendor.urllib3.connection.HTTPSConnection object at 0x108e839a0>, 'Connection to pypi.ngc.nvidia.com timed out. (connect timeout=15)')': /pyod/\u001b[0m\u001b[33m\n",
      "\u001b[0m\u001b[33mWARNING: Retrying (Retry(total=3, connect=None, read=None, redirect=None, status=None)) after connection broken by 'ConnectTimeoutError(<pip._vendor.urllib3.connection.HTTPSConnection object at 0x108e83bb0>, 'Connection to pypi.ngc.nvidia.com timed out. (connect timeout=15)')': /pyod/\u001b[0m\u001b[33m\n",
      "\u001b[0m\u001b[33mWARNING: Retrying (Retry(total=2, connect=None, read=None, redirect=None, status=None)) after connection broken by 'ConnectTimeoutError(<pip._vendor.urllib3.connection.HTTPSConnection object at 0x108e83ca0>, 'Connection to pypi.ngc.nvidia.com timed out. (connect timeout=15)')': /pyod/\u001b[0m\u001b[33m\n",
      "\u001b[0m\u001b[33mWARNING: Retrying (Retry(total=1, connect=None, read=None, redirect=None, status=None)) after connection broken by 'ConnectTimeoutError(<pip._vendor.urllib3.connection.HTTPSConnection object at 0x108e58400>, 'Connection to pypi.ngc.nvidia.com timed out. (connect timeout=15)')': /pyod/\u001b[0m\u001b[33m\n",
      "\u001b[0m\u001b[33mWARNING: Retrying (Retry(total=0, connect=None, read=None, redirect=None, status=None)) after connection broken by 'ConnectTimeoutError(<pip._vendor.urllib3.connection.HTTPSConnection object at 0x108e58f40>, 'Connection to pypi.ngc.nvidia.com timed out. (connect timeout=15)')': /pyod/\u001b[0m\u001b[33m\n",
      "\u001b[0m\u001b[31mERROR: Could not find a version that satisfies the requirement pyod (from versions: none)\u001b[0m\u001b[31m\n",
      "\u001b[0m\u001b[31mERROR: No matching distribution found for pyod\u001b[0m\u001b[31m\n",
      "\u001b[0m"
     ]
    }
   ],
   "source": [
    "!pip install --upgrade pyod numba"
   ]
  },
  {
   "cell_type": "code",
   "execution_count": 2,
   "id": "e54f116c",
   "metadata": {},
   "outputs": [
    {
     "ename": "ModuleNotFoundError",
     "evalue": "No module named 'matplotlib.pyplot'",
     "output_type": "error",
     "traceback": [
      "\u001b[0;31m---------------------------------------------------------------------------\u001b[0m",
      "\u001b[0;31mModuleNotFoundError\u001b[0m                       Traceback (most recent call last)",
      "\u001b[0;32m<ipython-input-2-643e023afde3>\u001b[0m in \u001b[0;36m<module>\u001b[0;34m\u001b[0m\n\u001b[1;32m      1\u001b[0m \u001b[0;32mimport\u001b[0m \u001b[0mnumpy\u001b[0m \u001b[0;32mas\u001b[0m \u001b[0mnp\u001b[0m\u001b[0;34m\u001b[0m\u001b[0;34m\u001b[0m\u001b[0m\n\u001b[1;32m      2\u001b[0m \u001b[0;32mfrom\u001b[0m \u001b[0mscipy\u001b[0m \u001b[0;32mimport\u001b[0m \u001b[0mstats\u001b[0m\u001b[0;34m\u001b[0m\u001b[0;34m\u001b[0m\u001b[0m\n\u001b[0;32m----> 3\u001b[0;31m \u001b[0;32mimport\u001b[0m \u001b[0mmatplotlib\u001b[0m\u001b[0;34m.\u001b[0m\u001b[0mpyplot\u001b[0m \u001b[0;32mas\u001b[0m \u001b[0mplt\u001b[0m\u001b[0;34m\u001b[0m\u001b[0;34m\u001b[0m\u001b[0m\n\u001b[0m\u001b[1;32m      4\u001b[0m \u001b[0;32mimport\u001b[0m \u001b[0mmatplotlib\u001b[0m\u001b[0;34m.\u001b[0m\u001b[0mfont_manager\u001b[0m\u001b[0;34m\u001b[0m\u001b[0;34m\u001b[0m\u001b[0m\n\u001b[1;32m      5\u001b[0m \u001b[0;32mfrom\u001b[0m \u001b[0mpyod\u001b[0m\u001b[0;34m.\u001b[0m\u001b[0mmodels\u001b[0m\u001b[0;34m.\u001b[0m\u001b[0mknn\u001b[0m \u001b[0;32mimport\u001b[0m \u001b[0mKNN\u001b[0m\u001b[0;34m\u001b[0m\u001b[0;34m\u001b[0m\u001b[0m\n",
      "\u001b[0;31mModuleNotFoundError\u001b[0m: No module named 'matplotlib.pyplot'"
     ]
    }
   ],
   "source": [
    "import numpy as np\n",
    "from scipy import stats\n",
    "import matplotlib.pyplot as plt\n",
    "import matplotlib.font_manager\n",
    "from pyod.models.knn import KNN\n",
    "from pyod.utils.data import generate_data, get_outliers_inliers"
   ]
  },
  {
   "cell_type": "code",
   "execution_count": null,
   "id": "blind-listening",
   "metadata": {},
   "outputs": [],
   "source": [
    "# generating a random dataset with two features\n",
    "X_train, y_train = generate_data(n_train = 300, train_only = True,\n",
    "                                                   n_features = 2)\n",
    " \n",
    "# Setting the percentage of outliers\n",
    "outlier_fraction = 0.1\n",
    " \n",
    "# Storing the outliers and inliners in different numpy arrays\n",
    "X_outliers, X_inliers = get_outliers_inliers(X_train, y_train)\n",
    "n_inliers = len(X_inliers)\n",
    "n_outliers = len(X_outliers)\n",
    " \n",
    "# Separating the two features\n",
    "f1 = X_train[:, [0]].reshape(-1, 1)\n",
    "f2 = X_train[:, [1]].reshape(-1, 1)"
   ]
  },
  {
   "cell_type": "code",
   "execution_count": null,
   "id": "joined-klein",
   "metadata": {},
   "outputs": [],
   "source": [
    "# Visualising the dataset\n",
    "# create a meshgrid\n",
    "xx, yy = np.meshgrid(np.linspace(-10, 10, 200),\n",
    "                     np.linspace(-10, 10, 200))\n",
    " \n",
    "# scatter plot\n",
    "plt.scatter(f1, f2)\n",
    "plt.xlabel('Feature 1')\n",
    "plt.ylabel('Feature 2')"
   ]
  },
  {
   "cell_type": "code",
   "execution_count": null,
   "id": "stock-petersburg",
   "metadata": {},
   "outputs": [],
   "source": [
    "# Training the classifier\n",
    "clf = KNN(contamination = outlier_fraction)\n",
    "clf.fit(X_train, y_train)\n",
    " \n",
    "# You can print this to see all the prediction scores\n",
    "scores_pred = clf.decision_function(X_train)*-1\n",
    " \n",
    "y_pred = clf.predict(X_train)\n",
    "n_errors = (y_pred != y_train).sum()\n",
    "# Counting the number of errors\n",
    " \n",
    "print('The number of prediction errors are ' + str(n_errors))"
   ]
  },
  {
   "cell_type": "code",
   "execution_count": null,
   "id": "orange-moral",
   "metadata": {},
   "outputs": [],
   "source": [
    "# threshold value to consider a\n",
    "# datapoint inlier or outlier\n",
    "threshold = stats.scoreatpercentile(scores_pred, 100 * outlier_fraction)\n",
    " \n",
    "# decision function calculates the raw\n",
    "# anomaly score for every point\n",
    "Z = clf.decision_function(np.c_[xx.ravel(), yy.ravel()]) * -1\n",
    "Z = Z.reshape(xx.shape)\n",
    " \n",
    "# fill blue colormap from minimum anomaly\n",
    "# score to threshold value\n",
    "subplot = plt.subplot(1, 2, 1)\n",
    "subplot.contourf(xx, yy, Z, levels = np.linspace(Z.min(),\n",
    "                  threshold, 10), cmap = plt.cm.Blues_r)\n",
    " \n",
    "# draw red contour line where anomaly\n",
    "# score is equal to threshold\n",
    "a = subplot.contour(xx, yy, Z, levels =[threshold],\n",
    "                     linewidths = 2, colors ='red')\n",
    " \n",
    "# fill orange contour lines where range of anomaly\n",
    "# score is from threshold to maximum anomaly score\n",
    "subplot.contourf(xx, yy, Z, levels =[threshold, Z.max()], colors ='orange')\n",
    " \n",
    "# scatter plot of inliers with white dots\n",
    "b = subplot.scatter(X_train[:-n_outliers, 0], X_train[:-n_outliers, 1],\n",
    "                                    c ='white', s = 20, edgecolor ='k')\n",
    " \n",
    "# scatter plot of outliers with black dots\n",
    "c = subplot.scatter(X_train[-n_outliers:, 0], X_train[-n_outliers:, 1],\n",
    "                                    c ='black', s = 20, edgecolor ='k')\n",
    "subplot.axis('tight')\n",
    " \n",
    "subplot.legend(\n",
    "    [a.collections[0], b, c],\n",
    "    ['learned decision function', 'true inliers', 'true outliers'],\n",
    "    prop = matplotlib.font_manager.FontProperties(size = 10),\n",
    "    loc ='lower right')\n",
    " \n",
    "subplot.set_title('K-Nearest Neighbours')\n",
    "subplot.set_xlim((-10, 10))\n",
    "subplot.set_ylim((-10, 10))\n",
    "plt.show()\n"
   ]
  },
  {
   "cell_type": "markdown",
   "id": "dried-punch",
   "metadata": {},
   "source": [
    "## Elliptic Envelope\n"
   ]
  },
  {
   "cell_type": "code",
   "execution_count": null,
   "id": "conscious-uganda",
   "metadata": {},
   "outputs": [],
   "source": [
    "from sklearn.datasets import make_blobs\n",
    "\n",
    "X, _ = make_blobs(n_samples=300, n_features=2,\n",
    "                  centers=1, shuffle=True, random_state=1)"
   ]
  },
  {
   "cell_type": "code",
   "execution_count": null,
   "id": "threaded-stream",
   "metadata": {},
   "outputs": [],
   "source": [
    "import seaborn as sns\n",
    "sns.set_style(\"darkgrid\")\n",
    "sns.scatterplot(x=X[:,0], y=X[:,1])"
   ]
  },
  {
   "cell_type": "code",
   "execution_count": null,
   "id": "involved-comparative",
   "metadata": {},
   "outputs": [],
   "source": [
    "!pip install --upgrade seaborn pandas\n",
    "\n",
    "#Checking normality of data. The method works with Gaussian distributed data.\n",
    "import matplotlib.pyplot as plt\n",
    "import pandas as pd\n",
    "pd.set_option('mode.use_inf_as_null', True)\n",
    "import seaborn as sns\n",
    "import matplotlib.pyplot as plt\n",
    "\n",
    "fig, ax = plt.subplots(nrows=1, ncols=2, figsize=(11,3))\n",
    "sns.distplot(X[:,0], ax=ax[0], color=\"darkblue\")\n",
    "sns.distplot(X[:,1], ax=ax[1], color='green')"
   ]
  },
  {
   "cell_type": "code",
   "execution_count": null,
   "id": "successful-starter",
   "metadata": {},
   "outputs": [],
   "source": [
    "import numpy as np\n",
    "import seaborn as sns\n",
    "sns.set_style(\"darkgrid\")\n",
    "from sklearn.covariance import EllipticEnvelope\n",
    "\n",
    "elpenv = EllipticEnvelope(contamination=0.025, \n",
    "                          random_state=1)\n",
    "\n",
    "# Returns 1 of inliers, -1 for outliers\n",
    "pred = elpenv.fit_predict(X)\n",
    "\n",
    "# Extract outliers\n",
    "outlier_index = np.where(pred==-1)\n",
    "outlier_values = X[outlier_index]\n",
    "\n",
    "\n",
    "sns.scatterplot(x=X[:,0], y=X[:,1])\n",
    "sns.scatterplot(x=outlier_values[:,0], \n",
    "                y=outlier_values[:,1], color='r')\n",
    "plt.legend(['Inlier','Outlier'])"
   ]
  },
  {
   "cell_type": "code",
   "execution_count": null,
   "id": "alert-lucas",
   "metadata": {},
   "outputs": [],
   "source": [
    "outlier_index"
   ]
  },
  {
   "cell_type": "code",
   "execution_count": null,
   "id": "visible-trout",
   "metadata": {},
   "outputs": [],
   "source": [
    "# Extract inliers\n",
    "inlier_index = np.where(pred==1)\n",
    "inlier_values = X[inlier_index]\n",
    "\n",
    "import pandas as pd\n",
    "df = pd.DataFrame(inlier_values, columns=['x1', 'x2'])\n",
    "df.head()"
   ]
  },
  {
   "cell_type": "markdown",
   "id": "german-bargain",
   "metadata": {},
   "source": [
    "## IQR-based detection"
   ]
  },
  {
   "cell_type": "code",
   "execution_count": null,
   "id": "welsh-presence",
   "metadata": {},
   "outputs": [],
   "source": [
    "import numpy as np\n",
    "from sklearn.datasets import make_blobs\n",
    "\n",
    "X, _ = make_blobs(n_samples=300, n_features=2,\n",
    "                  centers=1, shuffle=True, random_state=1)\n",
    "\n",
    "# This function returns the outlier indices of a feature\n",
    "# Input is one feature\n",
    "def outlier_indices(x):\n",
    "    Q1, Q3 = np.percentile(x, [25, 75])\n",
    "    IQR = Q3-Q1\n",
    "    lower_bound = Q1 - (1.5 * IQR)\n",
    "    upper_bound = Q3 + (1.5 * IQR)\n",
    "    outlier_index = np.where((x < lower_bound) | (x > upper_bound))\n",
    "    return outlier_index\n",
    "\n",
    "print(\"Outlier Indices of x1: \", outlier_indices(X[:,0])[0])\n",
    "print(\"\\nOutlier Values of x1: \\n\", X[outlier_indices(X[:,0])])\n",
    "print(\"\\n\")\n",
    "print(\"Outlier Indices of x2: \", outlier_indices(X[:,1])[0])\n",
    "print(\"\\nOutlier Values of x2: \\n\", X[outlier_indices(X[:,1])])"
   ]
  },
  {
   "cell_type": "code",
   "execution_count": null,
   "id": "operating-malawi",
   "metadata": {},
   "outputs": [],
   "source": [
    "import numpy as np\n",
    "index_union = np.union1d(outlier_indices(X[:,0])[0], \n",
    "                         outlier_indices(X[:,1])[0])\n",
    "index_union"
   ]
  },
  {
   "cell_type": "code",
   "execution_count": null,
   "id": "architectural-departure",
   "metadata": {},
   "outputs": [],
   "source": [
    "import matplotlib.pyplot as plt\n",
    "\n",
    "fig, ax = plt.subplots(nrows=1, ncols=2, figsize=(16,5))\n",
    "\n",
    "sns.scatterplot(x=X[:,0], y=X[:,1], ax=ax[0])\n",
    "sns.scatterplot(x=outlier_values[:,0], ax=ax[0],\n",
    "                y=outlier_values[:,1], color='r')\n",
    "\n",
    "sns.scatterplot(x=X[:,0], y=X[:,1], ax=ax[1])\n",
    "sns.scatterplot(x=X[index_union][:,0], y=X[index_union][:,1], ax=ax[1],\n",
    "                color='r')\n",
    "\n",
    "ax[0].set_title(\"Elliptic Envelope Detection\", fontsize=15, pad=15)\n",
    "ax[1].set_title(\"IQR-based Detection\", fontsize=15, pad=15)"
   ]
  },
  {
   "cell_type": "code",
   "execution_count": null,
   "id": "universal-recording",
   "metadata": {},
   "outputs": [],
   "source": [
    "import pandas as pd\n",
    "\n",
    "df = pd.DataFrame(inlier_values, columns=['x1', 'x2'])\n",
    "cleaned_df = df.drop(labels=index_union, axis=0, inplace=False)\n",
    "\n",
    "fig, ax = plt.subplots(nrows=1, ncols=2, figsize=(16,5))\n",
    "\n",
    "sns.scatterplot(x=X[:,0], y=X[:,1], ax=ax[0])\n",
    "sns.scatterplot(x=X[index_union][:,0], y=X[index_union][:,1], ax=ax[0],\n",
    "                color='r')\n",
    "\n",
    "sns.scatterplot(x=cleaned_df['x1'], y=cleaned_df['x2'], ax=ax[1])\n",
    "\n",
    "ax[0].set_title(\"Data with outliers\", fontsize=15, pad=15)\n",
    "ax[1].set_title(\"Data without outliers\", fontsize=15, pad=15)"
   ]
  },
  {
   "cell_type": "code",
   "execution_count": null,
   "id": "executed-integrity",
   "metadata": {},
   "outputs": [],
   "source": [
    "sns.set_style(\"white\")\n",
    "import matplotlib.pyplot as plt\n",
    "plt.tight_layout(pad=10)\n",
    "\n",
    "fig, ax = plt.subplots(nrows=2, ncols=2,\n",
    "                       figsize=(20,6), sharex='col')\n",
    "sns.boxplot(x=X[:,0], ax=ax[0,0], color='yellow')\n",
    "sns.boxplot(x=X[:,1], ax=ax[0,1], color='red')\n",
    "sns.boxplot(x=cleaned_df['x1'], ax=ax[1,0], color='yellow')\n",
    "sns.boxplot(x=cleaned_df['x2'], ax=ax[1,1], color='red')\n",
    "\n",
    "ax[0,0].set_title(\"Boxplot of x1 with outliers\", fontsize=15)\n",
    "ax[0,1].set_title(\"Boxplot of x2 with outliers\", fontsize=15)\n",
    "ax[1,0].set_title(\"Boxplot of x1 without outliers\", fontsize=15)\n",
    "ax[1,1].set_title(\"Boxplot of x2 without outliers\", fontsize=15)"
   ]
  },
  {
   "cell_type": "code",
   "execution_count": null,
   "id": "funny-completion",
   "metadata": {},
   "outputs": [],
   "source": []
  }
 ],
 "metadata": {
  "kernelspec": {
   "display_name": "Python 3 (ipykernel)",
   "language": "python",
   "name": "python3"
  },
  "language_info": {
   "codemirror_mode": {
    "name": "ipython",
    "version": 3
   },
   "file_extension": ".py",
   "mimetype": "text/x-python",
   "name": "python",
   "nbconvert_exporter": "python",
   "pygments_lexer": "ipython3",
   "version": "3.8.15"
  }
 },
 "nbformat": 4,
 "nbformat_minor": 5
}
