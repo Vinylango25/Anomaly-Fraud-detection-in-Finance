{
 "cells": [
  {
   "cell_type": "code",
   "execution_count": 1,
   "id": "iraqi-marriage",
   "metadata": {},
   "outputs": [
    {
     "data": {
      "text/html": [
       "        <script type=\"text/javascript\">\n",
       "        window.PlotlyConfig = {MathJaxConfig: 'local'};\n",
       "        if (window.MathJax) {MathJax.Hub.Config({SVG: {font: \"STIX-Web\"}});}\n",
       "        if (typeof require !== 'undefined') {\n",
       "        require.undef(\"plotly\");\n",
       "        requirejs.config({\n",
       "            paths: {\n",
       "                'plotly': ['https://cdn.plot.ly/plotly-latest.min']\n",
       "            }\n",
       "        });\n",
       "        require(['plotly'], function(Plotly) {\n",
       "            window._Plotly = Plotly;\n",
       "        });\n",
       "        }\n",
       "        </script>\n",
       "        "
      ]
     },
     "metadata": {},
     "output_type": "display_data"
    }
   ],
   "source": [
    "#!pip install fasttreeshap\n",
    "#!pip install scipy numpy\n",
    "# Importing the necessary packages and setting the enviroment\n",
    "import warnings\n",
    "warnings.filterwarnings(\"ignore\")\n",
    "\n",
    "\n",
    "import time, psutil, os, gc\n",
    "\n",
    "# Mathematical functions\n",
    "import math\n",
    "\n",
    "# Data manipulation\n",
    "import numpy as np\n",
    "np.bool = np.bool_\n",
    "import pandas as pd\n",
    "import matplotlib.pyplot as plt\n",
    "import shap  # For SHAP values explanation\n",
    "# Fit SHAP explainer and obtain SHAP values f\n",
    "# Plotting and visualization\n",
    "import matplotlib.pyplot as plt\n",
    "import matplotlib.patches as mpatches\n",
    "import plotly.express as px\n",
    "import plotly.graph_objects as go\n",
    "from plotly.subplots import make_subplots\n",
    "from plotly.offline import init_notebook_mode, iplot\n",
    "init_notebook_mode(connected=True)\n",
    "\n",
    "# Train-test split\n",
    "from sklearn.model_selection import train_test_split\n",
    "\n",
    "# Progress bar for loop\n",
    "from tqdm.contrib import itertools"
   ]
  },
  {
   "cell_type": "markdown",
   "id": "expensive-decision",
   "metadata": {},
   "source": [
    "# Data\n",
    "\n",
    "Source: https://www.kaggle.com/mlg-ulb/creditcardfraud\n",
    "\n",
    "The dataset contains information on the transactions made using credit cards by European cardholders, in two particular days of September 2013\n",
    ". It presents a total of 284807 transactions, of which 492 were fraudulent. Clearly, the dataset is highly imbalanced, the positive class (fraudulent transactions) accounting for only 0.173%\n",
    "\n",
    "of all transactions. The columns in the dataset are as follows:\n",
    "\n",
    "Time: The time (in seconds) elapsed between the transaction and the very first transaction \n",
    "\n",
    "V1 to V28: Obtained from principle component analysis (PCA) transformation on original features that are not available due to confidentiality\n",
    "\n",
    "Amount: The amount of the transaction\n",
    "\n",
    "Class: The status of the transaction with respect to authenticity. The class of an authentic (resp. fraudulent) transaction is taken to be 0"
   ]
  },
  {
   "cell_type": "code",
   "execution_count": 2,
   "id": "boxed-tanzania",
   "metadata": {},
   "outputs": [
    {
     "name": "stdout",
     "output_type": "stream",
     "text": [
      "Shape of the dataset: (284807, 31)\n"
     ]
    },
    {
     "data": {
      "text/html": [
       "<div>\n",
       "<style scoped>\n",
       "    .dataframe tbody tr th:only-of-type {\n",
       "        vertical-align: middle;\n",
       "    }\n",
       "\n",
       "    .dataframe tbody tr th {\n",
       "        vertical-align: top;\n",
       "    }\n",
       "\n",
       "    .dataframe thead th {\n",
       "        text-align: right;\n",
       "    }\n",
       "</style>\n",
       "<table border=\"1\" class=\"dataframe\">\n",
       "  <thead>\n",
       "    <tr style=\"text-align: right;\">\n",
       "      <th></th>\n",
       "      <th>Time</th>\n",
       "      <th>V1</th>\n",
       "      <th>V2</th>\n",
       "      <th>V3</th>\n",
       "      <th>V4</th>\n",
       "      <th>V5</th>\n",
       "      <th>V6</th>\n",
       "      <th>V7</th>\n",
       "      <th>V8</th>\n",
       "      <th>V9</th>\n",
       "      <th>...</th>\n",
       "      <th>V21</th>\n",
       "      <th>V22</th>\n",
       "      <th>V23</th>\n",
       "      <th>V24</th>\n",
       "      <th>V25</th>\n",
       "      <th>V26</th>\n",
       "      <th>V27</th>\n",
       "      <th>V28</th>\n",
       "      <th>Amount</th>\n",
       "      <th>Class</th>\n",
       "    </tr>\n",
       "  </thead>\n",
       "  <tbody>\n",
       "    <tr>\n",
       "      <th>0</th>\n",
       "      <td>0.0</td>\n",
       "      <td>-1.359807</td>\n",
       "      <td>-0.072781</td>\n",
       "      <td>2.536347</td>\n",
       "      <td>1.378155</td>\n",
       "      <td>-0.338321</td>\n",
       "      <td>0.462388</td>\n",
       "      <td>0.239599</td>\n",
       "      <td>0.098698</td>\n",
       "      <td>0.363787</td>\n",
       "      <td>...</td>\n",
       "      <td>-0.018307</td>\n",
       "      <td>0.277838</td>\n",
       "      <td>-0.110474</td>\n",
       "      <td>0.066928</td>\n",
       "      <td>0.128539</td>\n",
       "      <td>-0.189115</td>\n",
       "      <td>0.133558</td>\n",
       "      <td>-0.021053</td>\n",
       "      <td>149.62</td>\n",
       "      <td>0</td>\n",
       "    </tr>\n",
       "    <tr>\n",
       "      <th>1</th>\n",
       "      <td>0.0</td>\n",
       "      <td>1.191857</td>\n",
       "      <td>0.266151</td>\n",
       "      <td>0.166480</td>\n",
       "      <td>0.448154</td>\n",
       "      <td>0.060018</td>\n",
       "      <td>-0.082361</td>\n",
       "      <td>-0.078803</td>\n",
       "      <td>0.085102</td>\n",
       "      <td>-0.255425</td>\n",
       "      <td>...</td>\n",
       "      <td>-0.225775</td>\n",
       "      <td>-0.638672</td>\n",
       "      <td>0.101288</td>\n",
       "      <td>-0.339846</td>\n",
       "      <td>0.167170</td>\n",
       "      <td>0.125895</td>\n",
       "      <td>-0.008983</td>\n",
       "      <td>0.014724</td>\n",
       "      <td>2.69</td>\n",
       "      <td>0</td>\n",
       "    </tr>\n",
       "    <tr>\n",
       "      <th>2</th>\n",
       "      <td>1.0</td>\n",
       "      <td>-1.358354</td>\n",
       "      <td>-1.340163</td>\n",
       "      <td>1.773209</td>\n",
       "      <td>0.379780</td>\n",
       "      <td>-0.503198</td>\n",
       "      <td>1.800499</td>\n",
       "      <td>0.791461</td>\n",
       "      <td>0.247676</td>\n",
       "      <td>-1.514654</td>\n",
       "      <td>...</td>\n",
       "      <td>0.247998</td>\n",
       "      <td>0.771679</td>\n",
       "      <td>0.909412</td>\n",
       "      <td>-0.689281</td>\n",
       "      <td>-0.327642</td>\n",
       "      <td>-0.139097</td>\n",
       "      <td>-0.055353</td>\n",
       "      <td>-0.059752</td>\n",
       "      <td>378.66</td>\n",
       "      <td>0</td>\n",
       "    </tr>\n",
       "    <tr>\n",
       "      <th>3</th>\n",
       "      <td>1.0</td>\n",
       "      <td>-0.966272</td>\n",
       "      <td>-0.185226</td>\n",
       "      <td>1.792993</td>\n",
       "      <td>-0.863291</td>\n",
       "      <td>-0.010309</td>\n",
       "      <td>1.247203</td>\n",
       "      <td>0.237609</td>\n",
       "      <td>0.377436</td>\n",
       "      <td>-1.387024</td>\n",
       "      <td>...</td>\n",
       "      <td>-0.108300</td>\n",
       "      <td>0.005274</td>\n",
       "      <td>-0.190321</td>\n",
       "      <td>-1.175575</td>\n",
       "      <td>0.647376</td>\n",
       "      <td>-0.221929</td>\n",
       "      <td>0.062723</td>\n",
       "      <td>0.061458</td>\n",
       "      <td>123.50</td>\n",
       "      <td>0</td>\n",
       "    </tr>\n",
       "    <tr>\n",
       "      <th>4</th>\n",
       "      <td>2.0</td>\n",
       "      <td>-1.158233</td>\n",
       "      <td>0.877737</td>\n",
       "      <td>1.548718</td>\n",
       "      <td>0.403034</td>\n",
       "      <td>-0.407193</td>\n",
       "      <td>0.095921</td>\n",
       "      <td>0.592941</td>\n",
       "      <td>-0.270533</td>\n",
       "      <td>0.817739</td>\n",
       "      <td>...</td>\n",
       "      <td>-0.009431</td>\n",
       "      <td>0.798278</td>\n",
       "      <td>-0.137458</td>\n",
       "      <td>0.141267</td>\n",
       "      <td>-0.206010</td>\n",
       "      <td>0.502292</td>\n",
       "      <td>0.219422</td>\n",
       "      <td>0.215153</td>\n",
       "      <td>69.99</td>\n",
       "      <td>0</td>\n",
       "    </tr>\n",
       "  </tbody>\n",
       "</table>\n",
       "<p>5 rows × 31 columns</p>\n",
       "</div>"
      ],
      "text/plain": [
       "   Time        V1        V2        V3        V4        V5        V6        V7  \\\n",
       "0   0.0 -1.359807 -0.072781  2.536347  1.378155 -0.338321  0.462388  0.239599   \n",
       "1   0.0  1.191857  0.266151  0.166480  0.448154  0.060018 -0.082361 -0.078803   \n",
       "2   1.0 -1.358354 -1.340163  1.773209  0.379780 -0.503198  1.800499  0.791461   \n",
       "3   1.0 -0.966272 -0.185226  1.792993 -0.863291 -0.010309  1.247203  0.237609   \n",
       "4   2.0 -1.158233  0.877737  1.548718  0.403034 -0.407193  0.095921  0.592941   \n",
       "\n",
       "         V8        V9  ...       V21       V22       V23       V24       V25  \\\n",
       "0  0.098698  0.363787  ... -0.018307  0.277838 -0.110474  0.066928  0.128539   \n",
       "1  0.085102 -0.255425  ... -0.225775 -0.638672  0.101288 -0.339846  0.167170   \n",
       "2  0.247676 -1.514654  ...  0.247998  0.771679  0.909412 -0.689281 -0.327642   \n",
       "3  0.377436 -1.387024  ... -0.108300  0.005274 -0.190321 -1.175575  0.647376   \n",
       "4 -0.270533  0.817739  ... -0.009431  0.798278 -0.137458  0.141267 -0.206010   \n",
       "\n",
       "        V26       V27       V28  Amount  Class  \n",
       "0 -0.189115  0.133558 -0.021053  149.62      0  \n",
       "1  0.125895 -0.008983  0.014724    2.69      0  \n",
       "2 -0.139097 -0.055353 -0.059752  378.66      0  \n",
       "3 -0.221929  0.062723  0.061458  123.50      0  \n",
       "4  0.502292  0.219422  0.215153   69.99      0  \n",
       "\n",
       "[5 rows x 31 columns]"
      ]
     },
     "execution_count": 2,
     "metadata": {},
     "output_type": "execute_result"
    }
   ],
   "source": [
    "df = pd.read_csv(\"creditcard.csv\")\n",
    "# Check the shape of the dataset\n",
    "print(\"Shape of the dataset:\", df.shape)\n",
    "# Check the first few rows of the dataset\n",
    "data=df\n",
    "df.head()"
   ]
  },
  {
   "cell_type": "markdown",
   "id": "armed-louisiana",
   "metadata": {},
   "source": [
    "# Sub-sample with all minority class retained.\n",
    "\n",
    "To improve on computational efficiecy of shap calculations, we are doing a sub-sample of n=50000, where all the minority class (fraudulent transactions) are retained."
   ]
  },
  {
   "cell_type": "code",
   "execution_count": 3,
   "id": "nominated-separate",
   "metadata": {},
   "outputs": [
    {
     "data": {
      "text/plain": [
       "(100000, 31)"
      ]
     },
     "execution_count": 3,
     "metadata": {},
     "output_type": "execute_result"
    }
   ],
   "source": [
    "df=data\n",
    "# Calculate the class distribution in the original DataFrame\n",
    "class_counts = df['Class'].value_counts()\n",
    "\n",
    "# Identify minority classes\n",
    "minority_classes = class_counts[class_counts < df.shape[0] // len(class_counts)].index.tolist()\n",
    "\n",
    "# Create a sub-sample DataFrame\n",
    "sub_sample = pd.DataFrame()\n",
    "\n",
    "# Desired size of the sub-sample\n",
    "desired_size = 100000\n",
    "\n",
    "# Add all instances of minority classes\n",
    "for cls in minority_classes:\n",
    "    class_subset = df[df['Class'] == cls]\n",
    "    sub_sample = pd.concat([sub_sample, class_subset], axis=0)\n",
    "\n",
    "# For majority classes, sample with replacement to reach desired size\n",
    "for cls in df['Class'].unique():\n",
    "    if cls not in minority_classes:\n",
    "        class_subset = df[df['Class'] == cls]\n",
    "        num_samples = min(len(class_subset), desired_size - len(sub_sample))\n",
    "        class_subset_sampled = class_subset.sample(n=num_samples, replace=True, random_state=1)\n",
    "        sub_sample = pd.concat([sub_sample, class_subset_sampled], axis=0)\n",
    "        if len(sub_sample) >= desired_size:\n",
    "            break\n",
    "\n",
    "# Shuffle the sub-sample to mix the classes (optional)\n",
    "sub_sample = sub_sample.sample(frac=1, random_state=1).reset_index(drop=True)\n",
    "df=sub_sample\n",
    "df = df.fillna(df.mean())\n",
    "df.shape"
   ]
  },
  {
   "cell_type": "code",
   "execution_count": 4,
   "id": "unlimited-fellowship",
   "metadata": {},
   "outputs": [
    {
     "data": {
      "text/plain": [
       "(100000, 35)"
      ]
     },
     "execution_count": 4,
     "metadata": {},
     "output_type": "execute_result"
    }
   ],
   "source": [
    "df['Day'], temp = df['Time'] // (24*60*60), df['Time'] % (24*60*60)\n",
    "df['Hour'], temp = temp // (60*60), temp % (60*60)\n",
    "df['Minute'], df['Second'] = temp // 60, temp % 60\n",
    "df[['Time', 'Day', 'Hour', 'Minute', 'Second']].tail()\n",
    "df['Amount'] = np.log10(df['Amount'] + 0.001)\n",
    "df.shape"
   ]
  },
  {
   "cell_type": "code",
   "execution_count": 5,
   "id": "neutral-format",
   "metadata": {},
   "outputs": [],
   "source": [
    "df=df.fillna(df.mean())\n",
    "X=df.drop('Class',axis=1)\n",
    "y=df['Class']"
   ]
  },
  {
   "cell_type": "markdown",
   "id": "naked-amplifier",
   "metadata": {},
   "source": [
    "# Feature Selection"
   ]
  },
  {
   "cell_type": "code",
   "execution_count": 6,
   "id": "motivated-calcium",
   "metadata": {},
   "outputs": [
    {
     "data": {
      "text/plain": [
       "['V3', 'V6', 'V8', 'V9', 'V10', 'V11', 'V13', 'V15', 'V16', 'V17']"
      ]
     },
     "execution_count": 6,
     "metadata": {},
     "output_type": "execute_result"
    }
   ],
   "source": [
    "ind=[3,6,8,9,10,11,13,15,16,17]\n",
    "cols=[]\n",
    "for i in ind:\n",
    "    cols.append(df.columns[i])\n",
    "cols"
   ]
  },
  {
   "cell_type": "code",
   "execution_count": 7,
   "id": "accredited-swift",
   "metadata": {},
   "outputs": [],
   "source": [
    "col=['Time', 'V1', 'V2', 'V3', 'V4', 'V5', 'V6', 'V7', 'V8', 'V9', 'V10',\n",
    "       'V11', 'V12', 'V13', 'V14', 'V15', 'V16', 'V17', 'V18', 'V19', 'V20',\n",
    "       'V21', 'V22', 'V23', 'V24', 'V25', 'V26', 'V27', 'V28', 'Amount', 'Day', 'Hour', 'Minute', 'Second']"
   ]
  },
  {
   "cell_type": "code",
   "execution_count": 8,
   "id": "guilty-adolescent",
   "metadata": {},
   "outputs": [],
   "source": [
    "X=X[col]"
   ]
  },
  {
   "cell_type": "code",
   "execution_count": 9,
   "id": "legendary-external",
   "metadata": {},
   "outputs": [
    {
     "data": {
      "text/html": [
       "<div>\n",
       "<style scoped>\n",
       "    .dataframe tbody tr th:only-of-type {\n",
       "        vertical-align: middle;\n",
       "    }\n",
       "\n",
       "    .dataframe tbody tr th {\n",
       "        vertical-align: top;\n",
       "    }\n",
       "\n",
       "    .dataframe thead th {\n",
       "        text-align: right;\n",
       "    }\n",
       "</style>\n",
       "<table border=\"1\" class=\"dataframe\">\n",
       "  <thead>\n",
       "    <tr style=\"text-align: right;\">\n",
       "      <th></th>\n",
       "      <th>Time</th>\n",
       "      <th>V1</th>\n",
       "      <th>V2</th>\n",
       "      <th>V3</th>\n",
       "      <th>V4</th>\n",
       "      <th>V5</th>\n",
       "      <th>V6</th>\n",
       "      <th>V7</th>\n",
       "      <th>V8</th>\n",
       "      <th>V9</th>\n",
       "      <th>...</th>\n",
       "      <th>V24</th>\n",
       "      <th>V25</th>\n",
       "      <th>V26</th>\n",
       "      <th>V27</th>\n",
       "      <th>V28</th>\n",
       "      <th>Amount</th>\n",
       "      <th>Day</th>\n",
       "      <th>Hour</th>\n",
       "      <th>Minute</th>\n",
       "      <th>Second</th>\n",
       "    </tr>\n",
       "  </thead>\n",
       "  <tbody>\n",
       "    <tr>\n",
       "      <th>0</th>\n",
       "      <td>83099.0</td>\n",
       "      <td>-0.706925</td>\n",
       "      <td>-0.227413</td>\n",
       "      <td>0.810964</td>\n",
       "      <td>-1.908891</td>\n",
       "      <td>2.102545</td>\n",
       "      <td>3.499152</td>\n",
       "      <td>-0.857305</td>\n",
       "      <td>1.094489</td>\n",
       "      <td>0.842533</td>\n",
       "      <td>...</td>\n",
       "      <td>1.027330</td>\n",
       "      <td>0.464595</td>\n",
       "      <td>-0.490993</td>\n",
       "      <td>0.149410</td>\n",
       "      <td>0.094876</td>\n",
       "      <td>0.000434</td>\n",
       "      <td>0.0</td>\n",
       "      <td>23.0</td>\n",
       "      <td>4.0</td>\n",
       "      <td>59.0</td>\n",
       "    </tr>\n",
       "    <tr>\n",
       "      <th>1</th>\n",
       "      <td>38156.0</td>\n",
       "      <td>1.376468</td>\n",
       "      <td>-0.526020</td>\n",
       "      <td>0.682003</td>\n",
       "      <td>-0.652070</td>\n",
       "      <td>-1.241965</td>\n",
       "      <td>-0.964044</td>\n",
       "      <td>-0.662006</td>\n",
       "      <td>-0.155276</td>\n",
       "      <td>-0.669430</td>\n",
       "      <td>...</td>\n",
       "      <td>0.380366</td>\n",
       "      <td>0.234955</td>\n",
       "      <td>-0.412454</td>\n",
       "      <td>0.014778</td>\n",
       "      <td>0.026196</td>\n",
       "      <td>1.311775</td>\n",
       "      <td>0.0</td>\n",
       "      <td>10.0</td>\n",
       "      <td>35.0</td>\n",
       "      <td>56.0</td>\n",
       "    </tr>\n",
       "    <tr>\n",
       "      <th>2</th>\n",
       "      <td>135590.0</td>\n",
       "      <td>0.566742</td>\n",
       "      <td>-3.239704</td>\n",
       "      <td>-1.865361</td>\n",
       "      <td>-1.637002</td>\n",
       "      <td>-0.831041</td>\n",
       "      <td>0.906625</td>\n",
       "      <td>0.172834</td>\n",
       "      <td>0.265449</td>\n",
       "      <td>2.469764</td>\n",
       "      <td>...</td>\n",
       "      <td>-1.453057</td>\n",
       "      <td>-0.752981</td>\n",
       "      <td>-1.220133</td>\n",
       "      <td>-0.019662</td>\n",
       "      <td>0.058652</td>\n",
       "      <td>2.846820</td>\n",
       "      <td>1.0</td>\n",
       "      <td>13.0</td>\n",
       "      <td>39.0</td>\n",
       "      <td>50.0</td>\n",
       "    </tr>\n",
       "    <tr>\n",
       "      <th>3</th>\n",
       "      <td>82501.0</td>\n",
       "      <td>-0.880970</td>\n",
       "      <td>0.204653</td>\n",
       "      <td>2.467321</td>\n",
       "      <td>-0.538077</td>\n",
       "      <td>0.006734</td>\n",
       "      <td>0.142517</td>\n",
       "      <td>0.888193</td>\n",
       "      <td>-0.244358</td>\n",
       "      <td>-0.139762</td>\n",
       "      <td>...</td>\n",
       "      <td>0.244885</td>\n",
       "      <td>0.060451</td>\n",
       "      <td>0.066472</td>\n",
       "      <td>-0.420440</td>\n",
       "      <td>-0.522810</td>\n",
       "      <td>2.033428</td>\n",
       "      <td>0.0</td>\n",
       "      <td>22.0</td>\n",
       "      <td>55.0</td>\n",
       "      <td>1.0</td>\n",
       "    </tr>\n",
       "    <tr>\n",
       "      <th>4</th>\n",
       "      <td>76858.0</td>\n",
       "      <td>1.135711</td>\n",
       "      <td>-0.916677</td>\n",
       "      <td>0.259080</td>\n",
       "      <td>-2.027512</td>\n",
       "      <td>-1.014767</td>\n",
       "      <td>-0.569478</td>\n",
       "      <td>-0.444145</td>\n",
       "      <td>-0.125706</td>\n",
       "      <td>2.377299</td>\n",
       "      <td>...</td>\n",
       "      <td>-0.369768</td>\n",
       "      <td>0.784563</td>\n",
       "      <td>-0.602417</td>\n",
       "      <td>0.090398</td>\n",
       "      <td>0.043735</td>\n",
       "      <td>2.047512</td>\n",
       "      <td>0.0</td>\n",
       "      <td>21.0</td>\n",
       "      <td>20.0</td>\n",
       "      <td>58.0</td>\n",
       "    </tr>\n",
       "  </tbody>\n",
       "</table>\n",
       "<p>5 rows × 34 columns</p>\n",
       "</div>"
      ],
      "text/plain": [
       "       Time        V1        V2        V3        V4        V5        V6  \\\n",
       "0   83099.0 -0.706925 -0.227413  0.810964 -1.908891  2.102545  3.499152   \n",
       "1   38156.0  1.376468 -0.526020  0.682003 -0.652070 -1.241965 -0.964044   \n",
       "2  135590.0  0.566742 -3.239704 -1.865361 -1.637002 -0.831041  0.906625   \n",
       "3   82501.0 -0.880970  0.204653  2.467321 -0.538077  0.006734  0.142517   \n",
       "4   76858.0  1.135711 -0.916677  0.259080 -2.027512 -1.014767 -0.569478   \n",
       "\n",
       "         V7        V8        V9  ...       V24       V25       V26       V27  \\\n",
       "0 -0.857305  1.094489  0.842533  ...  1.027330  0.464595 -0.490993  0.149410   \n",
       "1 -0.662006 -0.155276 -0.669430  ...  0.380366  0.234955 -0.412454  0.014778   \n",
       "2  0.172834  0.265449  2.469764  ... -1.453057 -0.752981 -1.220133 -0.019662   \n",
       "3  0.888193 -0.244358 -0.139762  ...  0.244885  0.060451  0.066472 -0.420440   \n",
       "4 -0.444145 -0.125706  2.377299  ... -0.369768  0.784563 -0.602417  0.090398   \n",
       "\n",
       "        V28    Amount  Day  Hour  Minute  Second  \n",
       "0  0.094876  0.000434  0.0  23.0     4.0    59.0  \n",
       "1  0.026196  1.311775  0.0  10.0    35.0    56.0  \n",
       "2  0.058652  2.846820  1.0  13.0    39.0    50.0  \n",
       "3 -0.522810  2.033428  0.0  22.0    55.0     1.0  \n",
       "4  0.043735  2.047512  0.0  21.0    20.0    58.0  \n",
       "\n",
       "[5 rows x 34 columns]"
      ]
     },
     "execution_count": 9,
     "metadata": {},
     "output_type": "execute_result"
    }
   ],
   "source": [
    "X.head()"
   ]
  },
  {
   "cell_type": "markdown",
   "id": "prescribed-windows",
   "metadata": {},
   "source": [
    "# Scaling and Splitting the data"
   ]
  },
  {
   "cell_type": "code",
   "execution_count": 10,
   "id": "nuclear-clearing",
   "metadata": {},
   "outputs": [],
   "source": [
    "from sklearn.preprocessing import StandardScaler\n",
    "scaler = StandardScaler()\n",
    "# Fit and transform the data\n",
    "X =(X-X.mean())/X.std()\n",
    "X_train, X_test, y_train, y_test = train_test_split(X, y, test_size=0.2, random_state=42, stratify=y)\n",
    "data_train=X_train\n",
    "label_train=y_train\n",
    "test=X_test\n",
    "label_test=y_test"
   ]
  },
  {
   "cell_type": "markdown",
   "id": "likely-correction",
   "metadata": {},
   "source": [
    "# Load Python libraries"
   ]
  },
  {
   "cell_type": "code",
   "execution_count": 11,
   "id": "narrow-auditor",
   "metadata": {},
   "outputs": [],
   "source": [
    "import os\n",
    "import time\n",
    "import matplotlib\n",
    "import matplotlib.pyplot as plt\n",
    "import numpy as np\n",
    "import pandas as pd\n",
    "import shap\n",
    "from sklearn.metrics import roc_auc_score, accuracy_score\n",
    "#import umap\n",
    "from lime.lime_tabular import LimeTabularExplainer\n",
    "from sklearn.decomposition import PCA\n",
    "from sklearn.ensemble import RandomForestClassifier, GradientBoostingClassifier\n",
    "from sklearn.linear_model import LogisticRegressionCV\n",
    "from sklearn.metrics import classification_report\n",
    "from sklearn.model_selection import train_test_split\n",
    "from sklearn.naive_bayes import GaussianNB\n",
    "from sklearn.neural_network import MLPClassifier\n",
    "from sklearn.pipeline import Pipeline\n",
    "from sklearn.preprocessing import OneHotEncoder, StandardScaler, LabelEncoder\n",
    "from sklearn.svm import SVC\n",
    "from sklearn.tree import DecisionTreeClassifier\n",
    "from sklearn.neighbors import KNeighborsRegressor\n",
    "from sklearn.inspection import permutation_importance\n",
    "from sklearn.metrics import roc_auc_score\n",
    "from sklearn.ensemble import IsolationForest\n",
    "from lightgbm import LGBMClassifier\n",
    "from pyod.models.knn import KNN\n",
    "from pyod.models.iforest import IForest\n",
    "import fasttreeshap\n",
    "import time"
   ]
  },
  {
   "cell_type": "markdown",
   "id": "established-norman",
   "metadata": {},
   "source": [
    "# Train a random forest model using scikit-learn and compute SHAP values"
   ]
  },
  {
   "cell_type": "code",
   "execution_count": 51,
   "id": "fewer-easter",
   "metadata": {},
   "outputs": [],
   "source": [
    "n_estimators = 200  # number of trees in random forest model\n",
    "max_depth = 8  # maximum depth of any trees in random forest model"
   ]
  },
  {
   "cell_type": "code",
   "execution_count": 52,
   "id": "demanding-third",
   "metadata": {},
   "outputs": [
    {
     "name": "stdout",
     "output_type": "stream",
     "text": [
      "AUC on testing set is 0.98.\n",
      "Accuracy on testing set is 1.00.\n"
     ]
    }
   ],
   "source": [
    "# train a random forest model\n",
    "rf_model = RandomForestClassifier(n_estimators = n_estimators, max_depth = max_depth, random_state = 0)\n",
    "rf_model.fit(data_train, label_train)\n",
    "print(\"AUC on testing set is {:.2f}.\".format(roc_auc_score(label_test, rf_model.predict_proba(test)[:, 1])))\n",
    "print(\"Accuracy on testing set is {:.2f}.\".format(accuracy_score(label_test, rf_model.predict(test))))"
   ]
  },
  {
   "cell_type": "code",
   "execution_count": 53,
   "id": "committed-senior",
   "metadata": {},
   "outputs": [
    {
     "name": "stdout",
     "output_type": "stream",
     "text": [
      "Total number of leaves is 7926.\n"
     ]
    }
   ],
   "source": [
    "# obtain total number of leaves\n",
    "shap_explainer = fasttreeshap.TreeExplainer(rf_model)\n",
    "num_leaves = sum(shap_explainer.model.num_nodes) - sum(sum(shap_explainer.model.children_left > 0))\n",
    "print(\"Total number of leaves is {}.\".format(num_leaves))"
   ]
  },
  {
   "cell_type": "code",
   "execution_count": 54,
   "id": "overall-nylon",
   "metadata": {},
   "outputs": [],
   "source": [
    "# estimate memory usage of FastTreeSHAP v2 since FastTreeSHAP v2 has a stricter memory constraint than\n",
    "# TreeSHAP and FastTreeSHAP v1\n",
    "# derivation of the memory estimation can be found in Deep Dive Section in this notebook\n",
    "def memory_estimate_v2(shap_explainer, num_sample, num_feature, n_jobs):\n",
    "    max_node = max(shap_explainer.model.num_nodes)\n",
    "    max_leaves = (max_node + 1) // 2\n",
    "    max_combinations = 2**int(shap_explainer.model.max_depth)\n",
    "    phi_dim = num_sample * (num_feature + 1) * shap_explainer.model.num_outputs\n",
    "    n_jobs = os.cpu_count() if n_jobs == -1 else n_jobs\n",
    "    memory_1 = (max_leaves * max_combinations + phi_dim) * 8 * n_jobs\n",
    "    memory_2 = max_leaves * max_combinations * shap_explainer.model.values.shape[0] * 8\n",
    "    memory = min(memory_1, memory_2)\n",
    "    if memory < 1024:\n",
    "        print(\"Memory usage of FastTreeSHAP v2 is around {:.2f}B.\".format(memory))\n",
    "    elif memory / 1024 < 1024:\n",
    "        print(\"Memory usage of FastTreeSHAP v2 is around {:.2f}KB.\".format(memory / 1024))\n",
    "    elif memory / 1024**2 < 1024:\n",
    "        print(\"Memory usage of FastTreeSHAP v2 is around {:.2f}MB.\".format(memory / 1024**2))\n",
    "    else:\n",
    "        print(\"Memory usage of FastTreeSHAP v2 is around {:.2f}GB.\".format(memory / 1024**3))\n"
   ]
  },
  {
   "cell_type": "markdown",
   "id": "greater-award",
   "metadata": {},
   "source": [
    "# Compute SHAP values via different versions of TreeSHAP"
   ]
  },
  {
   "cell_type": "code",
   "execution_count": 55,
   "id": "helpful-remove",
   "metadata": {},
   "outputs": [],
   "source": [
    "num_sample = 10000  # number of samples to be explained\n",
    "n_jobs = -1  # number of parallel threads (-1 means utilizing all available cores)"
   ]
  },
  {
   "cell_type": "code",
   "execution_count": 56,
   "id": "useful-adventure",
   "metadata": {},
   "outputs": [
    {
     "data": {
      "text/plain": [
       "(10000, 34, 2)"
      ]
     },
     "execution_count": 56,
     "metadata": {},
     "output_type": "execute_result"
    }
   ],
   "source": [
    "# compute SHAP values via FastTreeSHAP v0 (i.e., original TreeSHAP)\n",
    "# parallel computing is not enabled in original TreeSHAP in SHAP package, but here we enable it for a fair comparison\n",
    "# on execution time\n",
    "shap_explainer = fasttreeshap.TreeExplainer(rf_model, algorithm = \"v0\", n_jobs = n_jobs)\n",
    "shap_values_v0 = shap_explainer(test.iloc[:num_sample]).values\n",
    "shap_values_v0.shape"
   ]
  },
  {
   "cell_type": "code",
   "execution_count": null,
   "id": "shared-clock",
   "metadata": {},
   "outputs": [],
   "source": [
    "# compute SHAP values via FastTreeSHAP v1\n",
    "shap_explainer = fasttreeshap.TreeExplainer(rf_model, algorithm = \"v1\", n_jobs = n_jobs)\n",
    "shap_values_v1 = shap_explainer(test.iloc[:num_sample]).values\n",
    "shap_values_v1.shape"
   ]
  },
  {
   "cell_type": "code",
   "execution_count": null,
   "id": "geographic-cookie",
   "metadata": {},
   "outputs": [],
   "source": [
    "# justify the correctness of FastTreeSHAP v1\n",
    "print(\"Maximum difference of SHAP values between v1 and v0 is {:.2e}.\".format(\n",
    "    np.max(abs(shap_values_v1 - shap_values_v0))))"
   ]
  },
  {
   "cell_type": "code",
   "execution_count": null,
   "id": "continuous-breed",
   "metadata": {},
   "outputs": [],
   "source": [
    "# estimate memory usage of FastTreeSHAP v2 since FastTreeSHAP v2 has a stricter memory constraint than\n",
    "# TreeSHAP and FastTreeSHAP v1\n",
    "memory_estimate_v2(shap_explainer, num_sample, test.shape[1], n_jobs)"
   ]
  },
  {
   "cell_type": "code",
   "execution_count": null,
   "id": "stable-worse",
   "metadata": {},
   "outputs": [],
   "source": [
    "# compute SHAP values via FastTreeSHAP v2\n",
    "shap_explainer = fasttreeshap.TreeExplainer(rf_model, algorithm = \"v2\", n_jobs = n_jobs)\n",
    "shap_values_v2 = shap_explainer(test.iloc[:num_sample]).values\n",
    "shap_values_v2.shape"
   ]
  },
  {
   "cell_type": "code",
   "execution_count": null,
   "id": "violent-brooks",
   "metadata": {},
   "outputs": [],
   "source": [
    "# justify the correctness of FastTreeSHAP v2\n",
    "print(\"Maximum difference of SHAP values between v2 and v0 is {:.2e}.\".format(\n",
    "    np.max(abs(shap_values_v2 - shap_values_v0))))"
   ]
  },
  {
   "cell_type": "code",
   "execution_count": null,
   "id": "induced-belgium",
   "metadata": {},
   "outputs": [],
   "source": [
    "# compute SHAP values via automatic TreeSHAP algorithm selection\n",
    "shap_explainer = fasttreeshap.TreeExplainer(rf_model, algorithm = \"auto\", n_jobs = n_jobs)\n",
    "shap_values_auto = shap_explainer(test.iloc[:num_sample]).values\n",
    "shap_values_auto.shape"
   ]
  },
  {
   "cell_type": "code",
   "execution_count": null,
   "id": "handmade-spine",
   "metadata": {},
   "outputs": [],
   "source": [
    "# justify the correctness of automatically selected TreeSHAP algorithm\n",
    "# it turns out that \"auto\" selects \"v2\" as the most appropriate TreeSHAP algorithm\n",
    "print(\"Maximum difference of SHAP values between auto and v0 is {:.2e}.\".format(\n",
    "    np.max(abs(shap_values_auto - shap_values_v0))))"
   ]
  },
  {
   "cell_type": "markdown",
   "id": "hollywood-moses",
   "metadata": {},
   "source": [
    "\n",
    "# Compare running times of different versions of TreeSHAP in computing SHAP values\n",
    "\n"
   ]
  },
  {
   "cell_type": "code",
   "execution_count": null,
   "id": "immune-mortgage",
   "metadata": {},
   "outputs": [],
   "source": [
    "# compute SHAP values/SHAP interaction values via TreeSHAP algorithm with version \"algorithm_version\"\n",
    "# (parallel on \"n_jobs\" threads)\n",
    "def run_fasttreeshap(model, sample, interactions, algorithm_version, n_jobs, num_round, num_sample, shortcut = False):\n",
    "    shap_explainer = fasttreeshap.TreeExplainer(\n",
    "        model, algorithm = algorithm_version, n_jobs = n_jobs, shortcut = shortcut)\n",
    "    run_time = np.zeros(num_round)\n",
    "    for i in range(num_round):\n",
    "        start = time.time()\n",
    "        shap_values = shap_explainer(sample.iloc[:num_sample], interactions = interactions).values\n",
    "        run_time[i] = time.time() - start\n",
    "        print(\"Round {} takes {:.3f} sec.\".format(i + 1, run_time[i]))\n",
    "    print(\"Average running time of {} is {:.3f} sec (std {:.3f} sec){}.\".format(\n",
    "        algorithm_version, np.mean(run_time), np.std(run_time), \" (with shortcut)\" if shortcut else \"\"))\n"
   ]
  },
  {
   "cell_type": "code",
   "execution_count": null,
   "id": "fourth-knight",
   "metadata": {},
   "outputs": [],
   "source": [
    "num_sample = 10000  # number of samples to be explained\n",
    "num_round = 3  # number of rounds to record mean and standard deviation of running time\n",
    "n_jobs = -1  # number of parallel threads (-1 means utilizing all available cores)"
   ]
  },
  {
   "cell_type": "code",
   "execution_count": null,
   "id": "looking-collaboration",
   "metadata": {},
   "outputs": [],
   "source": [
    "# run FastTreeSHAP v0 (i.e., original TreeSHAP) multiple times and record its average running time\n",
    "# parallel computing is not enabled in original TreeSHAP in SHAP package, but here we enable it for a fair comparison\n",
    "# on execution time\n",
    "run_fasttreeshap(\n",
    "    model = rf_model, sample = test, interactions = False, algorithm_version = \"v0\", n_jobs = n_jobs,\n",
    "    num_round = num_round, num_sample = num_sample)"
   ]
  },
  {
   "cell_type": "code",
   "execution_count": null,
   "id": "textile-triumph",
   "metadata": {},
   "outputs": [],
   "source": [
    "# run FastTreeSHAP v1 multiple times and record its average running time\n",
    "run_fasttreeshap(\n",
    "    model = rf_model, sample = test, interactions = False, algorithm_version = \"v1\", n_jobs = n_jobs, \n",
    "    num_round = num_round, num_sample = num_sample)"
   ]
  },
  {
   "cell_type": "code",
   "execution_count": null,
   "id": "ecological-today",
   "metadata": {},
   "outputs": [],
   "source": [
    "# run automatically selected TreeSHAP algorithm multiple times and record its average running time\n",
    "# it turns out that \"auto\" selects \"v2\" as the most appropriate TreeSHAP algorithm\n",
    "run_fasttreeshap(\n",
    "    model = rf_model, sample = test, interactions = False, algorithm_version = \"v2\", n_jobs = n_jobs, \n",
    "    num_round = num_round, num_sample = num_sample)"
   ]
  },
  {
   "cell_type": "markdown",
   "id": "loving-melbourne",
   "metadata": {},
   "source": [
    "# Compute SHAP interaction values via different versions of TreeSHAP"
   ]
  },
  {
   "cell_type": "code",
   "execution_count": null,
   "id": "affected-manufacturer",
   "metadata": {},
   "outputs": [],
   "source": [
    "num_sample = 100  # number of samples to be explained\n",
    "n_jobs = -1  # number of parallel threads (-1 means utilizing all available cores)"
   ]
  },
  {
   "cell_type": "code",
   "execution_count": null,
   "id": "scientific-theory",
   "metadata": {},
   "outputs": [],
   "source": [
    "# compute SHAP interaction values via FastTreeSHAP v0 (i.e., original TreeSHAP)\n",
    "# parallel computing is not enabled in original TreeSHAP in SHAP package, but here we enable it for a fair comparison\n",
    "# on execution time\n",
    "shap_explainer = fasttreeshap.TreeExplainer(rf_model, algorithm = \"v0\", n_jobs = n_jobs)\n",
    "shap_interaction_values_v0 = shap_explainer(test.iloc[:num_sample], interactions = True).values\n",
    "shap_interaction_values_v0.shape"
   ]
  },
  {
   "cell_type": "code",
   "execution_count": null,
   "id": "sporting-forward",
   "metadata": {},
   "outputs": [],
   "source": [
    "#compute SHAP interaction values via FastTreeSHAP v1\n",
    "shap_explainer = fasttreeshap.TreeExplainer(rf_model, algorithm = \"v1\", n_jobs = n_jobs)\n",
    "shap_interaction_values_v1 = shap_explainer(test.iloc[:num_sample], interactions = True).values\n",
    "shap_interaction_values_v1.shape"
   ]
  },
  {
   "cell_type": "code",
   "execution_count": null,
   "id": "verbal-discussion",
   "metadata": {},
   "outputs": [],
   "source": [
    "# justify the correctness of FastTreeSHAP v1\n",
    "print(\"Maximum difference of SHAP interaction values between v1 and v0 is {:.2e}.\".format(\n",
    "    np.max(abs(shap_interaction_values_v1 - shap_interaction_values_v0))))"
   ]
  },
  {
   "cell_type": "code",
   "execution_count": null,
   "id": "fuzzy-residence",
   "metadata": {},
   "outputs": [],
   "source": [
    " #compute SHAP interaction values via automatic TreeSHAP algorithm selection\n",
    "# v1 is always preferred to v0 in any use cases, and v2 does not support interactions\n",
    "shap_explainer = fasttreeshap.TreeExplainer(rf_model, algorithm = \"auto\", n_jobs = n_jobs)\n",
    "shap_interaction_values_auto = shap_explainer(test.iloc[:num_sample], interactions = True).values\n",
    "shap_interaction_values_auto.shape"
   ]
  },
  {
   "cell_type": "code",
   "execution_count": null,
   "id": "adopted-dining",
   "metadata": {},
   "outputs": [],
   "source": [
    "# justify the correctness of automatically selected TreeSHAP algorithm\n",
    "print(\"Maximum difference of SHAP interaction values between auto and v0 is {:.2e}.\".format(\n",
    "    np.max(abs(shap_interaction_values_auto - shap_interaction_values_v0))))"
   ]
  },
  {
   "cell_type": "markdown",
   "id": "tested-industry",
   "metadata": {},
   "source": [
    "# Compare running times of different versions of TreeSHAP in computing SHAP interaction values"
   ]
  },
  {
   "cell_type": "code",
   "execution_count": null,
   "id": "checked-forestry",
   "metadata": {},
   "outputs": [],
   "source": [
    "num_sample = 100  # number of samples to be explained\n",
    "num_round = 3  # number of rounds to record mean and standard deviation of running time\n",
    "n_jobs = -1  # number of parallel threads (-1 means utilizing all available cores)\n"
   ]
  },
  {
   "cell_type": "code",
   "execution_count": null,
   "id": "illegal-traveler",
   "metadata": {},
   "outputs": [],
   "source": [
    "# run FastTreeSHAP v0 (i.e., original TreeSHAP) multiple times and record its average running time\n",
    "# parallel computing is not enabled in original TreeSHAP in SHAP package, but here we enable it for a fair comparison\n",
    "# on execution time\n",
    "run_fasttreeshap(\n",
    "    model = rf_model, sample = test, interactions = True, algorithm_version = \"v0\", n_jobs = n_jobs, \n",
    "    num_round = num_round, num_sample = num_sample)"
   ]
  },
  {
   "cell_type": "code",
   "execution_count": null,
   "id": "qualified-finance",
   "metadata": {},
   "outputs": [],
   "source": [
    "# run FastTreeSHAP v1 multiple times and record its average running time\n",
    "run_fasttreeshap(\n",
    "    model = rf_model, sample = test, interactions = True, algorithm_version = \"v1\", n_jobs = n_jobs, \n",
    "    num_round = num_round, num_sample = num_sample)"
   ]
  },
  {
   "cell_type": "code",
   "execution_count": null,
   "id": "roman-decimal",
   "metadata": {},
   "outputs": [],
   "source": [
    "# run automatically selected TreeSHAP algorithm multiple times and record its average running time\n",
    "# v1 is always preferred to v0 in any use cases, and v2 does not support interactions\n",
    "run_fasttreeshap(\n",
    "    model = rf_model, sample = test, interactions = True, algorithm_version = \"auto\", n_jobs = n_jobs, \n",
    "    num_round = num_round, num_sample = num_sample)"
   ]
  },
  {
   "cell_type": "markdown",
   "id": "juvenile-kitty",
   "metadata": {},
   "source": [
    "# Varying number of RF Estimators"
   ]
  },
  {
   "cell_type": "code",
   "execution_count": 15,
   "id": "veterinary-drain",
   "metadata": {},
   "outputs": [],
   "source": [
    "# compute SHAP values/SHAP interaction values via TreeSHAP algorithm with version \"algorithm_version\"\n",
    "# (parallel on \"n_jobs\" threads)\n",
    "def run_time_fasttreeshap(model, sample, interactions, algorithm_version, n_jobs, num_round, num_sample, shortcut = False):\n",
    "    shap_explainer = fasttreeshap.TreeExplainer(\n",
    "        model, algorithm = algorithm_version, n_jobs = n_jobs, shortcut = shortcut)\n",
    "    run_time = np.zeros(num_round)\n",
    "    for i in range(num_round):\n",
    "        start = time.time()\n",
    "        shap_values = shap_explainer(sample.iloc[:num_sample], interactions = interactions).values\n",
    "        run_time[i] = time.time() - start\n",
    "    return  np.mean(run_time), np.std(run_time)"
   ]
  },
  {
   "cell_type": "markdown",
   "id": "88d52760",
   "metadata": {},
   "source": [
    "num_sample = 100  # number of samples to be explained\n",
    "num_round = 3  # number of rounds to record mean and standard deviation of running time\n",
    "n_jobs = -1 \n",
    "\n",
    "N_Est=[10*i for i in range(1,2) ]\n",
    "T_V0=[]\n",
    "T_V1=[]\n",
    "T_V2=[]\n",
    "for i in N_Est:\n",
    "    model=RandomForestClassifier(criterion='entropy', max_depth=8, max_features=0.31096155614096943,\n",
    "                       max_leaf_nodes=161, n_estimators=i, n_jobs=-1)\n",
    "    model.fit(X_train, y_train)\n",
    "    start_time = time.time()\n",
    "    shap_explainer=fasttreeshap.TreeExplainer(model, algorithm='v0',n_jobs=-1)\n",
    "    shap_values=shap_explainer(X_test).values\n",
    "    shap_values.shape\n",
    "    Elapsed_time = time.time()-start_time \n",
    "    T_V0.append(Elapsed_time)\n",
    "for i in N_Est:\n",
    "    model=RandomForestClassifier(criterion='entropy', max_depth=8, max_features=0.31096155614096943,\n",
    "                       max_leaf_nodes=161, n_estimators=i, n_jobs=-1)\n",
    "    model.fit(X_train, y_train)\n",
    "    start_time = time.time()\n",
    "    shap_explainer=fasttreeshap.TreeExplainer(model, algorithm='v1',n_jobs=-1)\n",
    "    shap_values=shap_explainer(X_test).values\n",
    "    shap_values.shape\n",
    "    Elapsed_time = time.time()-start_time \n",
    "    T_V1.append(Elapsed_time) \n",
    "    \n",
    "for i in N_Est:\n",
    "    model=RandomForestClassifier(criterion='entropy', max_depth=8, max_features=0.31096155614096943,\n",
    "                       max_leaf_nodes=161, n_estimators=i, n_jobs=-1)\n",
    "    model.fit(X_train, y_train)\n",
    "    start_time = time.time()\n",
    "    shap_explainer=fasttreeshap.TreeExplainer(model, algorithm='v2',n_jobs=-1)\n",
    "    shap_values=shap_explainer(X_test).values\n",
    "    shap_values.shape\n",
    "    Elapsed_time = time.time()-start_time \n",
    "    T_V2.append(Elapsed_time) "
   ]
  },
  {
   "cell_type": "markdown",
   "id": "a5a92807",
   "metadata": {},
   "source": [
    "# (a) Varying number of Samples"
   ]
  },
  {
   "cell_type": "code",
   "execution_count": 29,
   "id": "0f089f70",
   "metadata": {},
   "outputs": [],
   "source": [
    "from sklearn.ensemble import IsolationForest"
   ]
  },
  {
   "cell_type": "code",
   "execution_count": 30,
   "id": "encouraging-canal",
   "metadata": {},
   "outputs": [
    {
     "name": "stdout",
     "output_type": "stream",
     "text": [
      "(0.5708338816960653, 0.02404694625044179)\n",
      "(1.1837727626164753, 0.05819685782946202)\n",
      "(2.02340030670166, 0.12452890749189975)\n",
      "(4.318320433298747, 0.8289482831142257)\n",
      "(5.749478022257487, 0.2934630128705679)\n",
      "(7.403425574302673, 0.5357622946021707)\n",
      "(8.180742104848227, 0.47430018371282284)\n",
      "(8.966914614041647, 0.22018208370919956)\n",
      "(9.528568704922995, 0.3627762795599402)\n",
      "(11.031246105829874, 0.6494047354611301)\n"
     ]
    }
   ],
   "source": [
    "num_sample =[1000*i for i in range(1,11)]# number of samples to be explained\n",
    "num_round = 6  # number of rounds to record mean and standard deviation of running time\n",
    "n_jobs = -1 \n",
    "\n",
    "N_Est=[40*i for i in range(1,11) ]\n",
    "Versions=['v0','v1','v2']\n",
    "Samp=[1000*i for i in range(1,11)]\n",
    "T_V0=[]\n",
    "for i in num_sample:\n",
    "    model=IsolationForest(n_estimators = 100, random_state = 0)\n",
    "    model.fit(data_train,label_train)\n",
    "    time_stat=run_time_fasttreeshap(model = model, sample = test,interactions=False, algorithm_version ='v0', n_jobs = n_jobs, \n",
    "        num_round = num_round, num_sample= i)\n",
    "    print(time_stat)\n",
    "    T_V0.append(time_stat[0])"
   ]
  },
  {
   "cell_type": "code",
   "execution_count": 31,
   "id": "olive-comment",
   "metadata": {},
   "outputs": [
    {
     "name": "stdout",
     "output_type": "stream",
     "text": [
      "(0.9716561237970988, 0.15954729180425994)\n",
      "(1.8367234865824382, 0.28530335526114753)\n",
      "(2.9522433280944824, 0.39151581647842926)\n",
      "(4.466206669807434, 0.2606314330602708)\n",
      "(4.253476659456889, 0.7853212672419396)\n",
      "(4.806585192680359, 0.8699161151773028)\n",
      "(9.060787359873453, 1.2464712499023616)\n",
      "(7.250366727511088, 2.442196528831107)\n",
      "(6.168215115865071, 1.1781674096729498)\n",
      "(6.868430932362874, 0.4123100128773672)\n"
     ]
    }
   ],
   "source": [
    "T_V1=[]\n",
    "for i in num_sample :\n",
    "    model=IsolationForest(n_estimators = 100, random_state = 0)\n",
    "    model.fit(data_train,label_train)\n",
    "    time_stat=run_time_fasttreeshap(model = model, sample = test,interactions=False, algorithm_version = \"v1\", n_jobs = n_jobs, \n",
    "    num_round = num_round, num_sample= i)\n",
    "    print(time_stat)\n",
    "    T_V1.append(time_stat[0])"
   ]
  },
  {
   "cell_type": "code",
   "execution_count": 32,
   "id": "phantom-single",
   "metadata": {},
   "outputs": [
    {
     "name": "stdout",
     "output_type": "stream",
     "text": [
      "(0.31993985176086426, 0.028371592794977026)\n",
      "(0.7177730401357015, 0.09987590745586439)\n",
      "(1.000340461730957, 0.11716334763465613)\n",
      "(1.979068438212077, 0.29782912076110934)\n",
      "(1.8380324840545654, 0.07963057705199243)\n",
      "(1.8590434392293294, 0.1046821121312411)\n",
      "(2.8667415380477905, 0.11155329699714307)\n",
      "(3.2494647105534873, 0.1272686331066231)\n",
      "(3.3714956442515054, 0.34057989203282263)\n",
      "(3.0407004356384277, 0.308874529425556)\n"
     ]
    }
   ],
   "source": [
    "T_V2=[]\n",
    "for i in num_sample :\n",
    "    model=IsolationForest(n_estimators = 100, random_state = 0)\n",
    "    model.fit(data_train,label_train)\n",
    "    time_stat=run_time_fasttreeshap(model = model, sample = test,interactions=False, algorithm_version = \"v2\", n_jobs = n_jobs, \n",
    "    num_round = num_round, num_sample =i)\n",
    "    print(time_stat)\n",
    "    T_V2.append(time_stat[0])"
   ]
  },
  {
   "cell_type": "code",
   "execution_count": 33,
   "id": "noble-exclusion",
   "metadata": {},
   "outputs": [
    {
     "data": {
      "image/png": "[encoded data removed]",
      "text/plain": [
       "<Figure size 640x480 with 1 Axes>"
      ]
     },
     "metadata": {},
     "output_type": "display_data"
    }
   ],
   "source": [
    "plt.plot(num_sample,T_V0, color='darkgoldenrod')\n",
    "plt.plot(num_sample,T_V1, color='rebeccapurple')\n",
    "plt.plot(num_sample,T_V2, color='teal')\n",
    "plt.legend(['TreeShap','FastTreeShap v1','FastTreeShap v2'])\n",
    "plt.grid(True)\n",
    "plt.xlabel('Number of Samples')\n",
    "plt.ylabel('Running time (s)')\n",
    "plt.xlim(1000, 10010) \n",
    "plt.ylim(0, 8) \n",
    "plt.savefig(\"FastShap_Credit Data_sample_IF.pdf\", format=\"pdf\", bbox_inches=\"tight\",dpi=1000)\n",
    "plt.show()"
   ]
  },
  {
   "cell_type": "code",
   "execution_count": 34,
   "id": "5a2dccf0",
   "metadata": {},
   "outputs": [
    {
     "data": {
      "text/plain": [
       "(1.106672405739878, 2.6815830375458973)"
      ]
     },
     "execution_count": 34,
     "metadata": {},
     "output_type": "execute_result"
    }
   ],
   "source": [
    "AV_SU_V1=np.mean(np.array(T_V0)/np.array(T_V1))\n",
    "AV_SU_V2=np.mean(np.array(T_V0)/np.array(T_V2))\n",
    "AV_SU_V1,AV_SU_V2"
   ]
  },
  {
   "cell_type": "markdown",
   "id": "02f69d5a",
   "metadata": {},
   "source": [
    "# (b) Varying the maximum depth"
   ]
  },
  {
   "cell_type": "markdown",
   "id": "c264b489",
   "metadata": {},
   "source": [
    "Max_dpth =[2*i for i in range(1,7)]# number of samples to be explained\n",
    "num_round = 3  # number of rounds to record mean and standard deviation of running time\n",
    "n_jobs = -1 \n",
    "\n",
    "N_Est=[40*i for i in range(1,11) ]\n",
    "Versions=['v0','v1','v2']\n",
    "Samp=[1000*i for i in range(1,11)]\n",
    "T1_V0=[]\n",
    "for i in Max_dpth:\n",
    "    model=RandomForestClassifier(n_estimators = 100, max_depth = i, random_state = 0)\n",
    "    model.fit(data_train,label_train)\n",
    "    time_stat=run_time_fasttreeshap(model = model, sample = test, interactions = False, algorithm_version ='v0', n_jobs = n_jobs, \n",
    "        num_round = num_round, num_sample= 10000)\n",
    "    print(time_stat)\n",
    "    T1_V0.append(time_stat[0])"
   ]
  },
  {
   "cell_type": "markdown",
   "id": "ce92ba7b",
   "metadata": {},
   "source": [
    "T1_V1=[]\n",
    "for i in Max_dpth:\n",
    "    model=RandomForestClassifier(n_estimators = 100, max_depth = i, random_state = 0)\n",
    "    model.fit(data_train,label_train)\n",
    "    time_stat=run_time_fasttreeshap(model = model, sample = test, interactions = False, algorithm_version ='v1', n_jobs = n_jobs, \n",
    "        num_round = num_round, num_sample= 10000)\n",
    "    print(time_stat)\n",
    "    T1_V1.append(time_stat[0])"
   ]
  },
  {
   "cell_type": "markdown",
   "id": "b71bba73",
   "metadata": {},
   "source": [
    "T1_V2=[]\n",
    "for i in Max_dpth:\n",
    "    model=RandomForestClassifier(n_estimators = 100, max_depth = i, random_state = 0)\n",
    "    model.fit(data_train,label_train)\n",
    "    time_stat=run_time_fasttreeshap(model = model, sample = test, interactions = False, algorithm_version ='v2', n_jobs = n_jobs, \n",
    "        num_round = num_round, num_sample= 10000)\n",
    "    print(time_stat)\n",
    "    T1_V2.append(time_stat[0])"
   ]
  },
  {
   "cell_type": "markdown",
   "id": "de2a789c",
   "metadata": {},
   "source": [
    "import matplotlib.pyplot as plt\n",
    "plt.plot(Max_dpth,T1_V0, color='darkgoldenrod')\n",
    "plt.plot(Max_dpth,T1_V1, color='rebeccapurple')\n",
    "plt.plot(Max_dpth,T1_V2, color='teal')\n",
    "plt.legend(['TreeShap','FastTreeShap v1','FastTreeShap v2'])\n",
    "plt.grid(True)\n",
    "plt.xlabel('Max_Depth')\n",
    "plt.ylabel('Running time (s)')\n",
    "plt.xlim(2, 12.01) \n",
    "plt.ylim(0, 25) \n",
    "plt.savefig(\"FastShap_Credit Data_depth.pdf\", format=\"pdf\", bbox_inches=\"tight\",dpi=1000)\n",
    "plt.show()"
   ]
  },
  {
   "cell_type": "markdown",
   "id": "d205a918",
   "metadata": {},
   "source": [
    "AV_SU_V1=np.mean(np.array(T1_V0)/np.array(T1_V1))\n",
    "AV_SU_V2=np.mean(np.array(T1_V0)/np.array(T1_V2))\n",
    "AV_SU_V1,AV_SU_V2"
   ]
  },
  {
   "cell_type": "markdown",
   "id": "e3c8839f",
   "metadata": {},
   "source": [
    "#  (c) Varying the  number of estimators"
   ]
  },
  {
   "cell_type": "code",
   "execution_count": 35,
   "id": "d36b0ec9",
   "metadata": {},
   "outputs": [
    {
     "name": "stdout",
     "output_type": "stream",
     "text": [
      "(0.2412892977396647, 0.008049247668954587)\n",
      "(0.5465943813323975, 0.01962632622497368)\n",
      "(0.7701144218444824, 0.013429009663340648)\n",
      "(1.026442289352417, 0.02696390194944046)\n",
      "(1.2741889953613281, 0.18961797846110112)\n"
     ]
    }
   ],
   "source": [
    "Max_dpth =[2*i for i in range(1,6)]# number of samples to be explained\n",
    "num_round = 3  # number of rounds to record mean and standard deviation of running time\n",
    "n_jobs = -1 \n",
    "\n",
    "N_Est=[40*i for i in range(1,6) ]\n",
    "Versions=['v0','v1','v2']\n",
    "Samp=[1000*i for i in range(1,11)]\n",
    "T2_V0=[]\n",
    "for i in N_Est:\n",
    "    model=IsolationForest(n_estimators = i, random_state = 0)\n",
    "    model.fit(data_train,label_train)\n",
    "    time_stat=run_time_fasttreeshap(model = model, sample = test, interactions = False, algorithm_version ='v0', n_jobs = n_jobs, \n",
    "        num_round = num_round, num_sample= 1000)\n",
    "    print(time_stat)\n",
    "    T2_V0.append(time_stat[0])"
   ]
  },
  {
   "cell_type": "code",
   "execution_count": 36,
   "id": "713676eb",
   "metadata": {},
   "outputs": [
    {
     "name": "stdout",
     "output_type": "stream",
     "text": [
      "(0.23467286427815756, 0.0022390754378295873)\n",
      "(0.4526376724243164, 0.033277298670615546)\n",
      "(0.6560465494791666, 0.023898126801710665)\n",
      "(0.9083726406097412, 0.05863012327266492)\n",
      "(1.0454129378000896, 0.03405978087671594)\n"
     ]
    }
   ],
   "source": [
    "T2_V1=[]\n",
    "for i in N_Est:\n",
    "    model=IsolationForest(n_estimators = i, random_state = 0)\n",
    "    model.fit(data_train,label_train)\n",
    "    time_stat=run_time_fasttreeshap(model = model, sample = test, interactions = False, algorithm_version ='v1', n_jobs = n_jobs, \n",
    "        num_round = num_round, num_sample= 1000)\n",
    "    print(time_stat)\n",
    "    T2_V1.append(time_stat[0])"
   ]
  },
  {
   "cell_type": "code",
   "execution_count": 37,
   "id": "0b66cac6",
   "metadata": {},
   "outputs": [
    {
     "name": "stdout",
     "output_type": "stream",
     "text": [
      "(0.14397851626078287, 0.009583942657177385)\n",
      "(0.235430637995402, 0.0035203217609572923)\n",
      "(0.32440702120463055, 0.006536838545952795)\n",
      "(0.44460709889729816, 0.015384311164341193)\n",
      "(0.5305376847585043, 0.008842042988408497)\n"
     ]
    }
   ],
   "source": [
    "T2_V2=[]\n",
    "for i in  N_Est:\n",
    "    model=IsolationForest(n_estimators = i, random_state = 0)\n",
    "    model.fit(data_train,label_train)\n",
    "    time_stat=run_time_fasttreeshap(model = model, sample = test, interactions = False, algorithm_version ='v2', n_jobs = n_jobs, \n",
    "        num_round = num_round, num_sample= 1000)\n",
    "    print(time_stat)\n",
    "    T2_V2.append(time_stat[0])"
   ]
  },
  {
   "cell_type": "code",
   "execution_count": 38,
   "id": "ffa6a3b9",
   "metadata": {},
   "outputs": [
    {
     "data": {
      "image/png": "[encoded data removed]",
      "text/plain": [
       "<Figure size 640x480 with 1 Axes>"
      ]
     },
     "metadata": {},
     "output_type": "display_data"
    }
   ],
   "source": [
    "import matplotlib.pyplot as plt\n",
    "plt.plot( N_Est,T2_V0, color='darkgoldenrod')\n",
    "plt.plot( N_Est,T2_V1, color='rebeccapurple')\n",
    "plt.plot( N_Est,T2_V2, color='teal')\n",
    "plt.legend(['TreeShap','FastTreeShap v1','FastTreeShap v2'])\n",
    "plt.grid(True)\n",
    "plt.xlabel('Number of Estimators')\n",
    "plt.ylabel('Running time (s)')\n",
    "#plt.xlim(2, 12.01) \n",
    "#plt.ylim(0, 100) \n",
    "plt.savefig(\"FastShap_Credit Est_IF.pdf\", format=\"pdf\", bbox_inches=\"tight\",dpi=1000)\n",
    "plt.show()"
   ]
  },
  {
   "cell_type": "code",
   "execution_count": 39,
   "id": "36d87cd7",
   "metadata": {},
   "outputs": [
    {
     "data": {
      "text/plain": [
       "(1.1516918341717008, 2.2163614559300817)"
      ]
     },
     "execution_count": 39,
     "metadata": {},
     "output_type": "execute_result"
    }
   ],
   "source": [
    "AV_SU_V1=np.mean(np.array(T2_V0)/np.array(T2_V1))\n",
    "AV_SU_V2=np.mean(np.array(T2_V0)/np.array(T2_V2))\n",
    "AV_SU_V1,AV_SU_V2"
   ]
  },
  {
   "cell_type": "markdown",
   "id": "dd2781d8",
   "metadata": {},
   "source": [
    "# Comparing Explanations: TreeShap vs FastTreeShap V1 vs  FastTreeShap V2"
   ]
  },
  {
   "cell_type": "code",
   "execution_count": 40,
   "id": "2c3d2d90",
   "metadata": {},
   "outputs": [],
   "source": [
    "import os\n",
    "import time\n",
    "import matplotlib\n",
    "import matplotlib.pyplot as plt\n",
    "import numpy as np\n",
    "import pandas as pd\n",
    "import shap\n",
    "from sklearn.metrics import roc_auc_score, accuracy_score\n",
    "#import umap\n",
    "from lime.lime_tabular import LimeTabularExplainer\n",
    "from sklearn.decomposition import PCA\n",
    "from sklearn.ensemble import RandomForestClassifier, GradientBoostingClassifier\n",
    "from sklearn.linear_model import LogisticRegressionCV\n",
    "from sklearn.metrics import classification_report\n",
    "from sklearn.model_selection import train_test_split\n",
    "from sklearn.naive_bayes import GaussianNB\n",
    "from sklearn.neural_network import MLPClassifier\n",
    "from sklearn.pipeline import Pipeline\n",
    "from sklearn.preprocessing import OneHotEncoder, StandardScaler, LabelEncoder\n",
    "from sklearn.svm import SVC\n",
    "from sklearn.tree import DecisionTreeClassifier\n",
    "from sklearn.neighbors import KNeighborsRegressor\n",
    "from sklearn.inspection import permutation_importance\n",
    "from sklearn.metrics import roc_auc_score\n",
    "from sklearn.ensemble import IsolationForest\n",
    "from lightgbm import LGBMClassifier\n",
    "from pyod.models.knn import KNN\n",
    "from pyod.models.iforest import IForest\n",
    "import fasttreeshap\n",
    "import time"
   ]
  },
  {
   "cell_type": "code",
   "execution_count": 41,
   "id": "9b2c162b",
   "metadata": {},
   "outputs": [],
   "source": [
    "import warnings\n",
    "warnings.filterwarnings(\"ignore\")\n",
    "Modls=[ GradientBoostingClassifier(n_estimators=100),IsolationForest(n_estimators = 100,  random_state = 0),LGBMClassifier(learning_rate=0.054035619656969944, max_bin=511,\n",
    "               min_child_samples=11, n_estimators=1360, num_leaves=44,\n",
    "               reg_alpha=0.002947632445703634, reg_lambda=0.01268422625516522,\n",
    "               verbose=-1)]\n",
    "for model in Modls:\n",
    "    model.fit(data_train,label_train)"
   ]
  },
  {
   "cell_type": "code",
   "execution_count": 42,
   "id": "b32a8eac",
   "metadata": {},
   "outputs": [
    {
     "data": {
      "image/png": "[encoded data removed]",
      "text/plain": [
       "<Figure size 800x270 with 1 Axes>"
      ]
     },
     "metadata": {},
     "output_type": "display_data"
    }
   ],
   "source": [
    "import matplotlib.pyplot as plt\n",
    "import shap\n",
    "explainer = fasttreeshap.TreeExplainer(Modls[1], algorithm=\"v0\", n_jobs=n_jobs)\n",
    "shap_values = explainer.shap_values(test,check_additivity=False)\n",
    "# Assuming shap_values and test are defined elsewhere\n",
    "colors = ['#c2c330', 'darkgoldenrod', 'rebeccapurple', '#ff3939', 'lime', 'cyan', 'teal']\n",
    "\n",
    "# Plotting SHAP summary plot with bars for only 7 features\n",
    "fig, ax = plt.subplots(figsize=(10, 6))  # Adjust figsize as needed\n",
    "shap.summary_plot(shap_values, test, plot_type='bar', max_display=3, color=colors, show=False)\n",
    "\n",
    "# Customizing the plot title\n",
    "plt.title('TreeShap: Top 3 features')  # Replace with your desired title\n",
    "# Display the plot\n",
    "plt.tight_layout()\n",
    "plt.savefig(\"Credit_Exp_Treshap_IF.pdf\", format=\"pdf\", bbox_inches=\"tight\",dpi=1000)\n",
    "plt.show()"
   ]
  },
  {
   "cell_type": "code",
   "execution_count": 43,
   "id": "e9435bd2",
   "metadata": {},
   "outputs": [
    {
     "data": {
      "image/png": "[encoded data removed]",
      "text/plain": [
       "<Figure size 800x270 with 1 Axes>"
      ]
     },
     "metadata": {},
     "output_type": "display_data"
    }
   ],
   "source": [
    "import matplotlib.pyplot as plt\n",
    "import shap\n",
    "explainer = fasttreeshap.TreeExplainer(Modls[1], algorithm=\"v1\", n_jobs=n_jobs)\n",
    "shap_values = explainer.shap_values(test,check_additivity=False)\n",
    "# Assuming shap_values and test are defined elsewhere\n",
    "colors = ['#c2c330', 'darkgoldenrod', 'rebeccapurple', '#ff3939', 'lime', 'cyan', 'teal']\n",
    "\n",
    "# Plotting SHAP summary plot with bars for only 7 features\n",
    "fig, ax = plt.subplots(figsize=(10, 6))  # Adjust figsize as needed\n",
    "shap.summary_plot(shap_values, test, plot_type='bar', max_display=3, color=colors, show=False)\n",
    "\n",
    "# Customizing the plot title\n",
    "plt.title('Fast TreeShap v1: Top 3 features')  # Replace with your desired title\n",
    "# Display the plot\n",
    "plt.tight_layout()\n",
    "plt.savefig(\"Credit_Exp_Fasttreeshapev1_IF.pdf\", format=\"pdf\", bbox_inches=\"tight\",dpi=1000)\n",
    "plt.show()"
   ]
  },
  {
   "cell_type": "code",
   "execution_count": 44,
   "id": "2f857bab",
   "metadata": {},
   "outputs": [
    {
     "data": {
      "image/png": "[encoded data removed]",
      "text/plain": [
       "<Figure size 800x270 with 1 Axes>"
      ]
     },
     "metadata": {},
     "output_type": "display_data"
    }
   ],
   "source": [
    "import matplotlib.pyplot as plt\n",
    "import shap\n",
    "explainer = fasttreeshap.TreeExplainer(Modls[1], algorithm=\"v2\", n_jobs=n_jobs)\n",
    "shap_values = explainer.shap_values(test,check_additivity=False)\n",
    "# Assuming shap_values and test are defined elsewhere\n",
    "colors = ['#c2c330', 'darkgoldenrod', 'rebeccapurple', '#ff3939', 'lime', 'cyan', 'teal']\n",
    "\n",
    "# Plotting SHAP summary plot with bars for only 7 features\n",
    "fig, ax = plt.subplots(figsize=(10, 6))  # Adjust figsize as needed\n",
    "shap.summary_plot(shap_values, test, plot_type='bar', max_display=3, color=colors, show=False)\n",
    "\n",
    "# Customizing the plot title\n",
    "plt.title('Fast TreeShap v2: Top 3 features')  # Replace with your desired title\n",
    "# Display the plot\n",
    "plt.tight_layout()\n",
    "plt.savefig(\"Credit_Exp_Fasttreeshapev2_IF.pdf\", format=\"pdf\", bbox_inches=\"tight\",dpi=1000)\n",
    "plt.show()"
   ]
  },
  {
   "cell_type": "code",
   "execution_count": null,
   "id": "847cfbd9",
   "metadata": {},
   "outputs": [],
   "source": []
  },
  {
   "cell_type": "code",
   "execution_count": null,
   "id": "limiting-footwear",
   "metadata": {},
   "outputs": [],
   "source": []
  },
  {
   "cell_type": "code",
   "execution_count": null,
   "id": "b577cd8f",
   "metadata": {},
   "outputs": [],
   "source": []
  },
  {
   "cell_type": "code",
   "execution_count": null,
   "id": "74d585c8",
   "metadata": {},
   "outputs": [],
   "source": []
  },
  {
   "cell_type": "code",
   "execution_count": null,
   "id": "bea9c2f2",
   "metadata": {},
   "outputs": [],
   "source": []
  },
  {
   "cell_type": "code",
   "execution_count": null,
   "id": "647aa906",
   "metadata": {},
   "outputs": [],
   "source": []
  }
 ],
 "metadata": {
  "kernelspec": {
   "display_name": "Python 3 (ipykernel)",
   "language": "python",
   "name": "python3"
  },
  "language_info": {
   "codemirror_mode": {
    "name": "ipython",
    "version": 3
   },
   "file_extension": ".py",
   "mimetype": "text/x-python",
   "name": "python",
   "nbconvert_exporter": "python",
   "pygments_lexer": "ipython3",
   "version": "3.8.15"
  }
 },
 "nbformat": 4,
 "nbformat_minor": 5
}
